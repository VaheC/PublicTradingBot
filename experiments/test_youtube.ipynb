{
 "cells": [
  {
   "cell_type": "markdown",
   "metadata": {},
   "source": [
    "# Initial class creation"
   ]
  },
  {
   "cell_type": "code",
   "execution_count": 3,
   "metadata": {},
   "outputs": [],
   "source": [
    "class MyTradingStrategy:\n",
    "\n",
    "    def __init__(self, name):\n",
    "\n",
    "        self.__name = name\n",
    "\n",
    "    def generate_signal(self, price_data):\n",
    "        print('This method is intended to be overwritten')\n",
    "        return 'Hold'\n",
    "    \n",
    "    @property\n",
    "    def name(self):\n",
    "        return self.__name"
   ]
  },
  {
   "cell_type": "code",
   "execution_count": 4,
   "metadata": {},
   "outputs": [
    {
     "name": "stdout",
     "output_type": "stream",
     "text": [
      "This method is intended to be over ridded\n"
     ]
    },
    {
     "data": {
      "text/plain": [
       "'Awesome Strategy'"
      ]
     },
     "execution_count": 4,
     "metadata": {},
     "output_type": "execute_result"
    }
   ],
   "source": [
    "MyBaseObj = MyTradingStrategy('Awesome Strategy')\n",
    "MyBaseObj.generate_signal(13)\n",
    "MyBaseObj.name"
   ]
  },
  {
   "cell_type": "markdown",
   "metadata": {},
   "source": [
    "# SMA trading strategy"
   ]
  },
  {
   "cell_type": "code",
   "execution_count": 7,
   "metadata": {},
   "outputs": [],
   "source": [
    "class MySMATradingStrategy(MyTradingStrategy):\n",
    "\n",
    "    def __init__(self, swindow, lwindow):\n",
    "        self.__swindow = swindow\n",
    "        self.__lwindow = lwindow\n",
    "        super().__init__('MY SMA Trading strategy')\n",
    "\n",
    "    def generate_signal(self, price_data):\n",
    "\n",
    "        if len(price_data[-self.__lwindow:]) < self.__lwindow:\n",
    "            return 'Hold'\n",
    "        \n",
    "        short_avg = sum(price_data[-self.__swindow:]) / self.__swindow\n",
    "        long_avg = sum(price_data[-self.__lwindow:]) / self.__lwindow\n",
    "\n",
    "        if short_avg > long_avg:\n",
    "            return 'Buy'\n",
    "        elif short_avg < long_avg:\n",
    "            return 'Sell'\n",
    "        else:\n",
    "            return 'Hold'\n",
    "\n",
    "    @property\n",
    "    def swindow(self):\n",
    "        return self.__swindow\n",
    "    \n",
    "    @property\n",
    "    def lwindow(self):\n",
    "        return self.__lwindow"
   ]
  },
  {
   "cell_type": "code",
   "execution_count": 9,
   "metadata": {},
   "outputs": [
    {
     "name": "stdout",
     "output_type": "stream",
     "text": [
      "Buy\n",
      "5\n",
      "3\n",
      "MY SMA Trading strategy\n"
     ]
    }
   ],
   "source": [
    "ObjStrategy = MySMATradingStrategy(3, 5)\n",
    "print(ObjStrategy.generate_signal([12, 14, 15, 14, 2, 3, 8, 9, 7, 14]))\n",
    "print(ObjStrategy.lwindow)\n",
    "print(ObjStrategy.swindow)\n",
    "print(ObjStrategy.name)"
   ]
  },
  {
   "cell_type": "markdown",
   "metadata": {},
   "source": [
    "# MyTrade class creation"
   ]
  },
  {
   "cell_type": "code",
   "execution_count": 10,
   "metadata": {},
   "outputs": [],
   "source": [
    "from datetime import datetime "
   ]
  },
  {
   "cell_type": "code",
   "execution_count": 20,
   "metadata": {},
   "outputs": [],
   "source": [
    "class MyTrade:\n",
    "\n",
    "    def __init__(self, strategy_name, signal, amount):\n",
    "        self.__strategy_name = strategy_name\n",
    "        self.__signal = signal\n",
    "        self.__amount = amount\n",
    "        self.__timestamp = datetime.now()\n",
    "\n",
    "    def execute(self):\n",
    "        print(f'Executed {self.__signal} trade with the strategy <<{self.__strategy_name}>> for amount of {self.__amount} at {self.__timestamp}')\n",
    "\n",
    "    @property\n",
    "    def signal(self):\n",
    "        return self.__signal\n",
    "    \n",
    "    @property\n",
    "    def strategy_name(self):\n",
    "        return self.__strategy_name\n",
    "    \n",
    "    @property\n",
    "    def amount(self):\n",
    "        return self.__amount\n",
    "    \n",
    "    @property\n",
    "    def timestamp(self):\n",
    "        return self.__timestamp"
   ]
  },
  {
   "cell_type": "code",
   "execution_count": 21,
   "metadata": {},
   "outputs": [
    {
     "name": "stdout",
     "output_type": "stream",
     "text": [
      "MY SMA Trading strategy Buy\n",
      "Executed Buy trade with the strategy <<MY SMA Trading strategy>> for amount of 10000 at 2024-06-24 21:09:35.423006\n"
     ]
    }
   ],
   "source": [
    "strategy_name = ObjStrategy.name \n",
    "signal = ObjStrategy.generate_signal([12, 14, 15, 14, 2, 3, 8, 9, 7, 14])\n",
    "print(strategy_name, signal)\n",
    "\n",
    "ObjMyTrade = MyTrade(strategy_name, signal, 10000)\n",
    "ObjMyTrade.execute()"
   ]
  },
  {
   "cell_type": "markdown",
   "metadata": {},
   "source": [
    "# Mock Trading API creation"
   ]
  },
  {
   "cell_type": "code",
   "execution_count": 22,
   "metadata": {},
   "outputs": [],
   "source": [
    "class MockTradingAPI:\n",
    "\n",
    "    def __init__(self, balance):\n",
    "        self.__balance = balance\n",
    "\n",
    "    def place_order(self, trade, price):\n",
    "        if trade.signal == 'Buy' and self.__balance >= trade.amount *price:\n",
    "            self.__balance -= trade.amount * price \n",
    "            print(f'Placed a buy trade at {price}, Remaining Balance: {self.__balance}')\n",
    "        elif trade.signal == 'Sell':\n",
    "            self.__balance += trade.amount * price \n",
    "            print(f'Placed a sell trade at {price}, Remaining Balance: {self.__balance}')\n",
    "        else:\n",
    "            print('Insufficient balance or Invalid signal')\n",
    "\n",
    "    @property\n",
    "    def balance(self):\n",
    "        return self.__balance"
   ]
  },
  {
   "cell_type": "code",
   "execution_count": 28,
   "metadata": {},
   "outputs": [
    {
     "name": "stdout",
     "output_type": "stream",
     "text": [
      "Insufficient balance or Invalid signal\n"
     ]
    }
   ],
   "source": [
    "trade = MyTrade(strategy_name, signal, 10000)\n",
    "ObjMockAPI = MockTradingAPI(10000)\n",
    "ObjMockAPI.place_order(trade, 1000)"
   ]
  },
  {
   "cell_type": "markdown",
   "metadata": {},
   "source": [
    "# Trading system class creation"
   ]
  },
  {
   "cell_type": "code",
   "execution_count": 29,
   "metadata": {},
   "outputs": [],
   "source": [
    "! pip install yfinance -q"
   ]
  },
  {
   "cell_type": "code",
   "execution_count": 41,
   "metadata": {},
   "outputs": [],
   "source": [
    "import yfinance as yf\n",
    "import time"
   ]
  },
  {
   "cell_type": "code",
   "execution_count": 42,
   "metadata": {},
   "outputs": [],
   "source": [
    "class MyTradingSystem:\n",
    "\n",
    "    def __init__(self, api, strategy, symbol):\n",
    "        self.__api = api\n",
    "        self.__strategy = strategy\n",
    "        self.__symbol = symbol\n",
    "        self.__price_data = []\n",
    "\n",
    "    def fetch_price_data(self):\n",
    "        data = yf.download(self.__symbol, period='1d', interval='1m')\n",
    "        if not data.empty:\n",
    "            price = data['Close'].iloc[-1]\n",
    "            self.__price_data.append(price)\n",
    "            if len(self.__price_data) > self.__strategy.lwindow:\n",
    "                self.__strategy.lwindow.pop(0)\n",
    "                print(f'Fetched new price data: {price}')\n",
    "            else:\n",
    "                print('No data fetched')\n",
    "\n",
    "\n",
    "    def run(self):\n",
    "        self.fetch_price_data()\n",
    "        signal = self.__strategy.generate_signal(self.__price_data)\n",
    "        print(f'Generated signal: {signal}')\n",
    "        if signal in ['Sell', 'Buy']:\n",
    "            trade = MyTrade(self.__strategy.name, signal, 1)\n",
    "            trade.execute()\n",
    "            self.__api.place_order(trade, self.__price_data[-1])\n",
    "\n",
    "    @property\n",
    "    def api(self):\n",
    "        return self.__api\n",
    "    \n",
    "    @property\n",
    "    def strategy(self):\n",
    "        return self.__strategy\n",
    "    \n",
    "    @property\n",
    "    def symbol(self):\n",
    "        return self.__symbol\n",
    "    \n",
    "    @property\n",
    "    def price_data(self):\n",
    "        return self.__price_data"
   ]
  },
  {
   "cell_type": "code",
   "execution_count": 43,
   "metadata": {},
   "outputs": [
    {
     "name": "stderr",
     "output_type": "stream",
     "text": [
      "[*********************100%%**********************]  1 of 1 completed\n"
     ]
    },
    {
     "name": "stdout",
     "output_type": "stream",
     "text": [
      "No data fetched\n",
      "Generated signal: Hold\n",
      "Remaining balance: 10000\n"
     ]
    },
    {
     "name": "stderr",
     "output_type": "stream",
     "text": [
      "[*********************100%%**********************]  1 of 1 completed\n"
     ]
    },
    {
     "name": "stdout",
     "output_type": "stream",
     "text": [
      "No data fetched\n",
      "Generated signal: Hold\n",
      "Remaining balance: 10000\n"
     ]
    },
    {
     "name": "stderr",
     "output_type": "stream",
     "text": [
      "[*********************100%%**********************]  1 of 1 completed\n"
     ]
    },
    {
     "name": "stdout",
     "output_type": "stream",
     "text": [
      "No data fetched\n",
      "Generated signal: Hold\n",
      "Remaining balance: 10000\n"
     ]
    }
   ],
   "source": [
    "api = MockTradingAPI(balance=10000)\n",
    "symbol = 'AAPL'\n",
    "strategy = MySMATradingStrategy(swindow=3, lwindow=5)\n",
    "system = MyTradingSystem(api, strategy, symbol)\n",
    "\n",
    "for _ in range(3):\n",
    "    system.run()\n",
    "    print(f'Remaining balance: {api.balance}')\n",
    "    time.sleep(2)"
   ]
  },
  {
   "cell_type": "markdown",
   "metadata": {},
   "source": [
    "# File handling"
   ]
  },
  {
   "cell_type": "code",
   "execution_count": 2,
   "metadata": {},
   "outputs": [],
   "source": [
    "f = open('trades.csv', 'w')\n",
    "f.write('This is an algo trading course.')\n",
    "f.close()"
   ]
  },
  {
   "cell_type": "code",
   "execution_count": 3,
   "metadata": {},
   "outputs": [
    {
     "data": {
      "text/plain": [
       "'This is an algo trading course.'"
      ]
     },
     "execution_count": 3,
     "metadata": {},
     "output_type": "execute_result"
    }
   ],
   "source": [
    "f = open('trades.csv', 'r')\n",
    "f.read()"
   ]
  },
  {
   "cell_type": "code",
   "execution_count": 4,
   "metadata": {},
   "outputs": [],
   "source": [
    "f.close()"
   ]
  },
  {
   "cell_type": "code",
   "execution_count": 5,
   "metadata": {},
   "outputs": [],
   "source": [
    "f = open('trades.txt', 'w')\n",
    "f.write('I hope this course will be helpful.')\n",
    "f.close()"
   ]
  },
  {
   "cell_type": "code",
   "execution_count": 6,
   "metadata": {},
   "outputs": [],
   "source": [
    "temp_list = ['Hi bebe', '\\n How are you doing?']\n",
    "f = open('trades.txt', 'w')\n",
    "f.writelines(temp_list)\n",
    "f.close()"
   ]
  },
  {
   "cell_type": "code",
   "execution_count": 7,
   "metadata": {},
   "outputs": [
    {
     "data": {
      "text/plain": [
       "['Hi bebe\\n', ' How are you doing?']"
      ]
     },
     "execution_count": 7,
     "metadata": {},
     "output_type": "execute_result"
    }
   ],
   "source": [
    "f = open('trades.txt', 'r')\n",
    "f.readlines()"
   ]
  },
  {
   "cell_type": "code",
   "execution_count": 8,
   "metadata": {},
   "outputs": [],
   "source": [
    "f.close()"
   ]
  },
  {
   "cell_type": "code",
   "execution_count": 10,
   "metadata": {},
   "outputs": [
    {
     "name": "stdout",
     "output_type": "stream",
     "text": [
      "Hi bebe\n",
      "\n"
     ]
    }
   ],
   "source": [
    "with open('trades.txt', 'r') as f:\n",
    "    print(f.readline())"
   ]
  },
  {
   "cell_type": "code",
   "execution_count": 11,
   "metadata": {},
   "outputs": [],
   "source": [
    "with open('trades.txt', 'a') as f:\n",
    "    f.write('I am ok.')"
   ]
  },
  {
   "cell_type": "code",
   "execution_count": 12,
   "metadata": {},
   "outputs": [
    {
     "name": "stdout",
     "output_type": "stream",
     "text": [
      "['Hi bebe\\n', ' How are you doing?I am ok.']\n"
     ]
    }
   ],
   "source": [
    "with open('trades.txt', 'r') as f:\n",
    "    print(f.readlines())"
   ]
  },
  {
   "cell_type": "code",
   "execution_count": 13,
   "metadata": {},
   "outputs": [],
   "source": [
    "import csv\n",
    "\n",
    "with open('trades.csv', 'w', newline='') as f:\n",
    "    writer = csv.writer(f)\n",
    "    writer.writerow(['Symbol', 'Price'])"
   ]
  },
  {
   "cell_type": "code",
   "execution_count": 14,
   "metadata": {},
   "outputs": [
    {
     "name": "stdout",
     "output_type": "stream",
     "text": [
      "Hi be\n",
      "5\n",
      "be\n",
      " H\n",
      "11\n",
      "11\n",
      "11\n"
     ]
    }
   ],
   "source": [
    "with open('trades.txt', 'r') as f:\n",
    "    print(f.read(5))\n",
    "    print(f.tell())\n",
    "    print(f.read(5))\n",
    "    print(f.tell())\n",
    "    print(f.seek(11))\n",
    "    print(f.tell())"
   ]
  },
  {
   "cell_type": "code",
   "execution_count": 15,
   "metadata": {},
   "outputs": [],
   "source": [
    "temp_list = [\n",
    "    {\n",
    "        'trade_id': 'T12345', 'symbol': 'AAPL', 'price': 100, 'volume': 12345\n",
    "    },\n",
    "    {\n",
    "        'trade_id': 'T12344', 'symbol': 'MSFT', 'price': 110, 'volume': 22345\n",
    "    }\n",
    "]"
   ]
  },
  {
   "cell_type": "code",
   "execution_count": 16,
   "metadata": {},
   "outputs": [],
   "source": [
    "import json\n",
    "\n",
    "# serialization\n",
    "with open('trade_log.json', 'w') as f:\n",
    "    json.dump(temp_list, f)"
   ]
  },
  {
   "cell_type": "code",
   "execution_count": 17,
   "metadata": {},
   "outputs": [
    {
     "name": "stdout",
     "output_type": "stream",
     "text": [
      "[{'trade_id': 'T12345', 'symbol': 'AAPL', 'price': 100, 'volume': 12345}, {'trade_id': 'T12344', 'symbol': 'MSFT', 'price': 110, 'volume': 22345}]\n"
     ]
    }
   ],
   "source": [
    "# deserialization\n",
    "with open('trade_log.json', 'r') as f:\n",
    "    print(json.load(f))"
   ]
  },
  {
   "cell_type": "code",
   "execution_count": 18,
   "metadata": {},
   "outputs": [],
   "source": [
    "import pickle"
   ]
  },
  {
   "cell_type": "code",
   "execution_count": null,
   "metadata": {},
   "outputs": [],
   "source": []
  }
 ],
 "metadata": {
  "kernelspec": {
   "display_name": "trading_bot",
   "language": "python",
   "name": "python3"
  },
  "language_info": {
   "codemirror_mode": {
    "name": "ipython",
    "version": 3
   },
   "file_extension": ".py",
   "mimetype": "text/x-python",
   "name": "python",
   "nbconvert_exporter": "python",
   "pygments_lexer": "ipython3",
   "version": "3.10.14"
  }
 },
 "nbformat": 4,
 "nbformat_minor": 2
}
