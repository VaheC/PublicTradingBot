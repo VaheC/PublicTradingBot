{
 "cells": [
  {
   "cell_type": "markdown",
   "metadata": {},
   "source": [
    "# Initial class creation"
   ]
  },
  {
   "cell_type": "code",
   "execution_count": 3,
   "metadata": {},
   "outputs": [],
   "source": [
    "class MyTradingStrategy:\n",
    "\n",
    "    def __init__(self, name):\n",
    "\n",
    "        self.__name = name\n",
    "\n",
    "    def generate_signal(self, price_data):\n",
    "        print('This method is intended to be over ridded')\n",
    "        return 'Hold'\n",
    "    \n",
    "    @property\n",
    "    def name(self):\n",
    "        return self.__name\n",
    "    \n"
   ]
  },
  {
   "cell_type": "code",
   "execution_count": 4,
   "metadata": {},
   "outputs": [
    {
     "name": "stdout",
     "output_type": "stream",
     "text": [
      "This method is intended to be over ridded\n"
     ]
    },
    {
     "data": {
      "text/plain": [
       "'Awesome Strategy'"
      ]
     },
     "execution_count": 4,
     "metadata": {},
     "output_type": "execute_result"
    }
   ],
   "source": [
    "MyBaseObj = MyTradingStrategy('Awesome Strategy')\n",
    "MyBaseObj.generate_signal(13)\n",
    "MyBaseObj.name"
   ]
  },
  {
   "cell_type": "markdown",
   "metadata": {},
   "source": [
    "# SMA trading strategy"
   ]
  },
  {
   "cell_type": "code",
   "execution_count": 7,
   "metadata": {},
   "outputs": [],
   "source": [
    "class MySMATradingStrategy(MyTradingStrategy):\n",
    "\n",
    "    def __init__(self, swindow, lwindow):\n",
    "        self.__swindow = swindow\n",
    "        self.__lwindow = lwindow\n",
    "        super().__init__('MY SMA Trading strategy')\n",
    "\n",
    "    def generate_signal(self, price_data):\n",
    "\n",
    "        if len(price_data[-self.__lwindow:]) < self.__lwindow:\n",
    "            return 'Hold'\n",
    "        \n",
    "        short_avg = sum(price_data[-self.__swindow:]) / self.__swindow\n",
    "        long_avg = sum(price_data[-self.__lwindow:]) / self.__lwindow\n",
    "\n",
    "        if short_avg > long_avg:\n",
    "            return 'Buy'\n",
    "        elif short_avg < long_avg:\n",
    "            return 'Sell'\n",
    "        else:\n",
    "            return 'Hold'\n",
    "\n",
    "    @property\n",
    "    def swindow(self):\n",
    "        return self.__swindow\n",
    "    \n",
    "    @property\n",
    "    def lwindow(self):\n",
    "        return self.__lwindow"
   ]
  },
  {
   "cell_type": "code",
   "execution_count": 9,
   "metadata": {},
   "outputs": [
    {
     "name": "stdout",
     "output_type": "stream",
     "text": [
      "Buy\n",
      "5\n",
      "3\n",
      "MY SMA Trading strategy\n"
     ]
    }
   ],
   "source": [
    "ObjStrategy = MySMATradingStrategy(3, 5)\n",
    "print(ObjStrategy.generate_signal([12, 14, 15, 14, 2, 3, 8, 9, 7, 14]))\n",
    "print(ObjStrategy.lwindow)\n",
    "print(ObjStrategy.swindow)\n",
    "print(ObjStrategy.name)"
   ]
  },
  {
   "cell_type": "code",
   "execution_count": null,
   "metadata": {},
   "outputs": [],
   "source": []
  }
 ],
 "metadata": {
  "kernelspec": {
   "display_name": "trading_bot",
   "language": "python",
   "name": "python3"
  },
  "language_info": {
   "codemirror_mode": {
    "name": "ipython",
    "version": 3
   },
   "file_extension": ".py",
   "mimetype": "text/x-python",
   "name": "python",
   "nbconvert_exporter": "python",
   "pygments_lexer": "ipython3",
   "version": "3.10.14"
  }
 },
 "nbformat": 4,
 "nbformat_minor": 2
}
