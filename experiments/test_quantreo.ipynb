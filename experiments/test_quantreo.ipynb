{
 "cells": [
  {
   "cell_type": "markdown",
   "metadata": {},
   "source": [
    "# Importing some packages"
   ]
  },
  {
   "cell_type": "code",
   "execution_count": 7,
   "metadata": {},
   "outputs": [],
   "source": [
    "import pandas as pd\n",
    "import numpy as np\n",
    "from tqdm.auto import tqdm\n",
    "from pathlib import Path"
   ]
  },
  {
   "cell_type": "markdown",
   "metadata": {},
   "source": []
  },
  {
   "cell_type": "code",
   "execution_count": 3,
   "metadata": {},
   "outputs": [],
   "source": [
    "def convert_time_interval(input_interval):\n",
    "    \"\"\"\n",
    "    Function to convert a time interval in hours, days, or minutes to minutes.\n",
    "\n",
    "    Parameters:\n",
    "        input_interval (str): The time interval as a string.\n",
    "                              For example: '5H' for 5 hours, '3D' for 3 days, or '300T' for 300 minutes.\n",
    "\n",
    "    Returns:\n",
    "        int: The equivalent time interval in minutes.\n",
    "    \"\"\"\n",
    "    num = int(input_interval[:-1])  # Get the number (ignore the last character 'H', 'D', or 'T').\n",
    "    unit = input_interval[-1]       # Get the unit of time ('H' for hours, 'D' for days, or 'T' for minutes).\n",
    "\n",
    "    if unit == 'H':\n",
    "        return f\"{int(num/10 * 60)}T\", f\"{num * 60}T\"  # Convert hours to minutes.\n",
    "    elif unit == 'D':\n",
    "        return f\"{int(num/10 * 24 * 60)}T\", f\"{num * 24 * 60}T\"  # Convert days to minutes.\n",
    "    elif unit == 'T':\n",
    "        if num<=5:\n",
    "            return f\"1T\", f\"{num}T\"  # For minutes, return the value directly.\n",
    "        else:\n",
    "            return f\"{int(num/5)}T\", f\"{num}T\"  # For minutes, return the value directly.\n",
    "    else:\n",
    "        raise ValueError(\"Invalid input interval. Please use 'H' for hours, 'D' for days, or 'T' for minutes.\")"
   ]
  },
  {
   "cell_type": "code",
   "execution_count": 4,
   "metadata": {},
   "outputs": [
    {
     "data": {
      "text/plain": [
       "('24T', '240T')"
      ]
     },
     "execution_count": 4,
     "metadata": {},
     "output_type": "execute_result"
    }
   ],
   "source": [
    "convert_time_interval('4H')"
   ]
  },
  {
   "cell_type": "code",
   "execution_count": 5,
   "metadata": {},
   "outputs": [],
   "source": [
    "def resample_data(df, granularity):\n",
    "    resample = df.resample(granularity)\n",
    "\n",
    "    df_resampled = pd.DataFrame()\n",
    "    df_resampled[\"open\"] = resample[\"open\"].first()\n",
    "    df_resampled[\"high\"] = resample[\"high\"].max()\n",
    "    df_resampled[\"low\"] = resample[\"low\"].min()\n",
    "    df_resampled[\"close\"] = resample[\"close\"].last()\n",
    "    df_resampled[\"tick_volume\"] = resample[\"tick_volume\"].sum()\n",
    "\n",
    "    return df_resampled"
   ]
  },
  {
   "cell_type": "code",
   "execution_count": 10,
   "metadata": {},
   "outputs": [
    {
     "name": "stdout",
     "output_type": "stream",
     "text": [
      "24T 240T\n"
     ]
    },
    {
     "data": {
      "text/html": [
       "<div>\n",
       "<style scoped>\n",
       "    .dataframe tbody tr th:only-of-type {\n",
       "        vertical-align: middle;\n",
       "    }\n",
       "\n",
       "    .dataframe tbody tr th {\n",
       "        vertical-align: top;\n",
       "    }\n",
       "\n",
       "    .dataframe thead th {\n",
       "        text-align: right;\n",
       "    }\n",
       "</style>\n",
       "<table border=\"1\" class=\"dataframe\">\n",
       "  <thead>\n",
       "    <tr style=\"text-align: right;\">\n",
       "      <th></th>\n",
       "      <th>open</th>\n",
       "      <th>high</th>\n",
       "      <th>low</th>\n",
       "      <th>close</th>\n",
       "      <th>tick_volume</th>\n",
       "      <th>low_time</th>\n",
       "      <th>high_time</th>\n",
       "    </tr>\n",
       "    <tr>\n",
       "      <th>time</th>\n",
       "      <th></th>\n",
       "      <th></th>\n",
       "      <th></th>\n",
       "      <th></th>\n",
       "      <th></th>\n",
       "      <th></th>\n",
       "      <th></th>\n",
       "    </tr>\n",
       "  </thead>\n",
       "  <tbody>\n",
       "    <tr>\n",
       "      <th>2015-01-02 10:00:00</th>\n",
       "      <td>1.16483</td>\n",
       "      <td>1.16555</td>\n",
       "      <td>1.16483</td>\n",
       "      <td>1.16548</td>\n",
       "      <td>803</td>\n",
       "      <td>2015-01-02 10:00:00</td>\n",
       "      <td>2015-01-02 10:09:00</td>\n",
       "    </tr>\n",
       "    <tr>\n",
       "      <th>2015-01-02 10:15:00</th>\n",
       "      <td>1.16547</td>\n",
       "      <td>1.16583</td>\n",
       "      <td>1.16540</td>\n",
       "      <td>1.16581</td>\n",
       "      <td>596</td>\n",
       "      <td>2015-01-02 10:18:00</td>\n",
       "      <td>2015-01-02 10:27:00</td>\n",
       "    </tr>\n",
       "    <tr>\n",
       "      <th>2015-01-02 10:30:00</th>\n",
       "      <td>1.16581</td>\n",
       "      <td>1.16587</td>\n",
       "      <td>1.16497</td>\n",
       "      <td>1.16527</td>\n",
       "      <td>683</td>\n",
       "      <td>2015-01-02 10:39:00</td>\n",
       "      <td>2015-01-02 10:30:00</td>\n",
       "    </tr>\n",
       "    <tr>\n",
       "      <th>2015-01-02 10:45:00</th>\n",
       "      <td>1.16524</td>\n",
       "      <td>1.16539</td>\n",
       "      <td>1.16479</td>\n",
       "      <td>1.16488</td>\n",
       "      <td>660</td>\n",
       "      <td>2015-01-02 10:57:00</td>\n",
       "      <td>2015-01-02 10:51:00</td>\n",
       "    </tr>\n",
       "    <tr>\n",
       "      <th>2015-01-02 11:00:00</th>\n",
       "      <td>1.16490</td>\n",
       "      <td>1.16519</td>\n",
       "      <td>1.16472</td>\n",
       "      <td>1.16497</td>\n",
       "      <td>857</td>\n",
       "      <td>2015-01-02 11:09:00</td>\n",
       "      <td>2015-01-02 11:06:00</td>\n",
       "    </tr>\n",
       "  </tbody>\n",
       "</table>\n",
       "</div>"
      ],
      "text/plain": [
       "                        open     high      low    close  tick_volume  \\\n",
       "time                                                                   \n",
       "2015-01-02 10:00:00  1.16483  1.16555  1.16483  1.16548          803   \n",
       "2015-01-02 10:15:00  1.16547  1.16583  1.16540  1.16581          596   \n",
       "2015-01-02 10:30:00  1.16581  1.16587  1.16497  1.16527          683   \n",
       "2015-01-02 10:45:00  1.16524  1.16539  1.16479  1.16488          660   \n",
       "2015-01-02 11:00:00  1.16490  1.16519  1.16472  1.16497          857   \n",
       "\n",
       "                                low_time            high_time  \n",
       "time                                                           \n",
       "2015-01-02 10:00:00  2015-01-02 10:00:00  2015-01-02 10:09:00  \n",
       "2015-01-02 10:15:00  2015-01-02 10:18:00  2015-01-02 10:27:00  \n",
       "2015-01-02 10:30:00  2015-01-02 10:39:00  2015-01-02 10:30:00  \n",
       "2015-01-02 10:45:00  2015-01-02 10:57:00  2015-01-02 10:51:00  \n",
       "2015-01-02 11:00:00  2015-01-02 11:09:00  2015-01-02 11:06:00  "
      ]
     },
     "execution_count": 10,
     "metadata": {},
     "output_type": "execute_result"
    }
   ],
   "source": [
    "low_tf, high_tf = convert_time_interval('4H')\n",
    "print(low_tf, high_tf)\n",
    "\n",
    "path = Path(r\"C:/\\Users/\\vchar/\\OneDrive/\\Desktop/\\ML Projects/\\portfolio/\\PublicTradingBot/\\data/\\data_15m/\\15-minutes_USDCAD.csv\")\n",
    "df_15m = pd.read_csv(path, index_col=\"time\", parse_dates=True)\n",
    "df_15m.head()"
   ]
  },
  {
   "cell_type": "code",
   "execution_count": null,
   "metadata": {},
   "outputs": [],
   "source": []
  }
 ],
 "metadata": {
  "kernelspec": {
   "display_name": "trading_bot",
   "language": "python",
   "name": "python3"
  },
  "language_info": {
   "codemirror_mode": {
    "name": "ipython",
    "version": 3
   },
   "file_extension": ".py",
   "mimetype": "text/x-python",
   "name": "python",
   "nbconvert_exporter": "python",
   "pygments_lexer": "ipython3",
   "version": "3.10.14"
  }
 },
 "nbformat": 4,
 "nbformat_minor": 2
}
